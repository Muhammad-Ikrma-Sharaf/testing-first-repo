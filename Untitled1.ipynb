{
 "cells": [
  {
   "cell_type": "code",
   "execution_count": 2,
   "id": "35d47dba",
   "metadata": {},
   "outputs": [],
   "source": [
    "import cv2\n",
    "import numpy as np"
   ]
  },
  {
   "cell_type": "code",
   "execution_count": 2,
   "id": "dad9dc16",
   "metadata": {},
   "outputs": [
    {
     "data": {
      "text/plain": [
       "-1"
      ]
     },
     "execution_count": 2,
     "metadata": {},
     "output_type": "execute_result"
    }
   ],
   "source": [
    "#Read images\n",
    "img = cv2.imread(\"1220.jpg\")\n",
    "cv2.imshow(\"Image\",img)\n",
    "cv2.waitKey(1)"
   ]
  },
  {
   "cell_type": "code",
   "execution_count": 5,
   "id": "f60873da",
   "metadata": {},
   "outputs": [],
   "source": [
    "#Read Video\n",
    "cap=cv2.VideoCapture(\"video.mp4\")\n",
    "while True:\n",
    "    sucess,frames=cap.read()\n",
    "    cv2.imshow(\"Video\",frames)\n",
    "    if cv2.waitKey(1) & 0xff == ord('q'):\n",
    "        break\n",
    "cv2.VideoCapture.release()\n",
    "cv2.destroyAllWindows()"
   ]
  },
  {
   "cell_type": "code",
   "execution_count": 6,
   "id": "7271d44d",
   "metadata": {},
   "outputs": [
    {
     "ename": "KeyboardInterrupt",
     "evalue": "",
     "output_type": "error",
     "traceback": [
      "\u001b[0;31m---------------------------------------------------------------------------\u001b[0m",
      "\u001b[0;31mKeyboardInterrupt\u001b[0m                         Traceback (most recent call last)",
      "Cell \u001b[0;32mIn[6], line 5\u001b[0m\n\u001b[1;32m      3\u001b[0m sucess,frames\u001b[38;5;241m=\u001b[39mcap\u001b[38;5;241m.\u001b[39mread()\n\u001b[1;32m      4\u001b[0m cv2\u001b[38;5;241m.\u001b[39mimshow(\u001b[38;5;124m\"\u001b[39m\u001b[38;5;124mVideo\u001b[39m\u001b[38;5;124m\"\u001b[39m,frames)\n\u001b[0;32m----> 5\u001b[0m \u001b[38;5;28;01mif\u001b[39;00m \u001b[43mcv2\u001b[49m\u001b[38;5;241;43m.\u001b[39;49m\u001b[43mwaitKey\u001b[49m\u001b[43m(\u001b[49m\u001b[38;5;241;43m1\u001b[39;49m\u001b[43m)\u001b[49m \u001b[38;5;241m&\u001b[39m \u001b[38;5;241m0xff\u001b[39m \u001b[38;5;241m==\u001b[39m \u001b[38;5;28mord\u001b[39m(\u001b[38;5;124m'\u001b[39m\u001b[38;5;124mq\u001b[39m\u001b[38;5;124m'\u001b[39m):\n\u001b[1;32m      6\u001b[0m     \u001b[38;5;28;01mbreak\u001b[39;00m\n",
      "\u001b[0;31mKeyboardInterrupt\u001b[0m: "
     ]
    }
   ],
   "source": [
    "#Read webcam\n",
    "cap=cv2.VideoCapture(0)\n",
    "while True:\n",
    "    sucess,frames=cap.read()\n",
    "    cv2.imshow(\"Video\",frames)\n",
    "    if cv2.waitKey(1) & 0xff == ord('q'):\n",
    "        break\n",
    "cv2.VideoCapture.release()\n",
    "cv2.destroyAllWindows()"
   ]
  },
  {
   "cell_type": "code",
   "execution_count": 7,
   "id": "f38fa5b1",
   "metadata": {},
   "outputs": [
    {
     "ename": "error",
     "evalue": "OpenCV(4.7.0) /Users/runner/work/opencv-python/opencv-python/opencv/modules/highgui/src/window.cpp:971: error: (-215:Assertion failed) size.width>0 && size.height>0 in function 'imshow'\n",
     "output_type": "error",
     "traceback": [
      "\u001b[0;31m---------------------------------------------------------------------------\u001b[0m",
      "\u001b[0;31merror\u001b[0m                                     Traceback (most recent call last)",
      "Cell \u001b[0;32mIn[7], line 6\u001b[0m\n\u001b[1;32m      4\u001b[0m \u001b[38;5;28;01mwhile\u001b[39;00m \u001b[38;5;28;01mTrue\u001b[39;00m:\n\u001b[1;32m      5\u001b[0m     sucess,frames\u001b[38;5;241m=\u001b[39mcap\u001b[38;5;241m.\u001b[39mread()\n\u001b[0;32m----> 6\u001b[0m     \u001b[43mcv2\u001b[49m\u001b[38;5;241;43m.\u001b[39;49m\u001b[43mimshow\u001b[49m\u001b[43m(\u001b[49m\u001b[38;5;124;43m\"\u001b[39;49m\u001b[38;5;124;43mVideo\u001b[39;49m\u001b[38;5;124;43m\"\u001b[39;49m\u001b[43m,\u001b[49m\u001b[43mframes\u001b[49m\u001b[43m)\u001b[49m\n\u001b[1;32m      7\u001b[0m     \u001b[38;5;28;01mif\u001b[39;00m cv2\u001b[38;5;241m.\u001b[39mwaitKey(\u001b[38;5;241m1\u001b[39m) \u001b[38;5;241m&\u001b[39m \u001b[38;5;241m0xff\u001b[39m \u001b[38;5;241m==\u001b[39m \u001b[38;5;28mord\u001b[39m(\u001b[38;5;124m'\u001b[39m\u001b[38;5;124mq\u001b[39m\u001b[38;5;124m'\u001b[39m):\n\u001b[1;32m      8\u001b[0m         \u001b[38;5;28;01mbreak\u001b[39;00m\n",
      "\u001b[0;31merror\u001b[0m: OpenCV(4.7.0) /Users/runner/work/opencv-python/opencv-python/opencv/modules/highgui/src/window.cpp:971: error: (-215:Assertion failed) size.width>0 && size.height>0 in function 'imshow'\n"
     ]
    }
   ],
   "source": [
    "#Setting height and width\n",
    "cap=cv2.VideoCapture(\"video.mp4\")\n",
    "#width id 3\n",
    "cap.set(3,480)\n",
    "#height id 4\n",
    "cap.set(4,680)\n",
    "#brightnss id 10\n",
    "cap.set(10,100)\n",
    "while True:\n",
    "    sucess,frames=cap.read()\n",
    "    cv2.imshow(\"Video\",frames)\n",
    "    if cv2.waitKey(1) & 0xff == ord('q'):\n",
    "        break\n",
    "cv2.VideoCapture.release()\n",
    "cv2.destroyAllWindows()"
   ]
  },
  {
   "cell_type": "code",
   "execution_count": 18,
   "id": "3abde99b",
   "metadata": {},
   "outputs": [],
   "source": [
    "#Gray Image\n",
    "img = cv2.imread(\"1220.jpg\")\n",
    "imggray=cv2.cvtColor(img,cv2.COLOR_BGR2GRAY)\n",
    "cv2.imshow(\"Gray Image\",imggray)\n",
    "cv2.waitKey(1)\n",
    "cv2.destroyAllWindows()"
   ]
  },
  {
   "cell_type": "code",
   "execution_count": 10,
   "id": "50703f24",
   "metadata": {},
   "outputs": [
    {
     "data": {
      "text/plain": [
       "-1"
      ]
     },
     "execution_count": 10,
     "metadata": {},
     "output_type": "execute_result"
    }
   ],
   "source": [
    "#Blur Image\n",
    "img = cv2.imread(\"1220.jpg\")\n",
    "imgblur=cv2.GaussianBlur(img,(7,7),0)\n",
    "cv2.imshow(\"Image\",imgblur)\n",
    "cv2.waitKey(1)\n",
    "cv2.destroyAllWindows()"
   ]
  },
  {
   "cell_type": "code",
   "execution_count": 14,
   "id": "b081478b",
   "metadata": {},
   "outputs": [],
   "source": [
    "#Canny Image\n",
    "img = cv2.imread(\"1220.jpg\")\n",
    "imgcanny=cv2.Canny(img,150,200)\n",
    "cv2.imshow(\"Canny Image\",imgcanny)\n",
    "cv2.waitKey(1)\n",
    "cv2.destroyAllWindows()"
   ]
  },
  {
   "cell_type": "code",
   "execution_count": 15,
   "id": "529859bf",
   "metadata": {},
   "outputs": [],
   "source": [
    "#Dilate Canny  Image\n",
    "kernel=np.ones((5,5),np.uint8)\n",
    "img = cv2.imread(\"1220.jpg\")\n",
    "imgcanny=cv2.Canny(img,150,200)\n",
    "imgdilate=cv2.dilate(imgcanny,kernel,iterations=1 )\n",
    "cv2.imshow(\"Dilate Image\",imgdilate)\n",
    "cv2.waitKey(1)\n",
    "cv2.destroyAllWindows()"
   ]
  },
  {
   "cell_type": "code",
   "execution_count": 16,
   "id": "b5b9835e",
   "metadata": {},
   "outputs": [],
   "source": [
    "#Erode CAnny Image\n",
    "img = cv2.imread(\"1220.jpg\")\n",
    "imgcanny=cv2.Canny(img,150,200)\n",
    "imgerode=cv2.erode(imgcanny,kernel,iterations=1 )\n",
    "cv2.imshow(\"Eroded Image\",imgerode)\n",
    "cv2.waitKey(1)\n",
    "cv2.destroyAllWindows()"
   ]
  },
  {
   "cell_type": "code",
   "execution_count": 20,
   "id": "3c5cb6fe",
   "metadata": {},
   "outputs": [],
   "source": [
    "#resize image\n",
    "img=cv2.imread(\"1220.jpg\")\n",
    "imgresize=cv2.resize(img,(100,100)) #width than height,,,if print img.shape output is height than width\n",
    "cv2.imshow(\"Resized Image\",imgresize)\n",
    "cv2.waitKey(1)\n",
    "cv2.destroyAllWindows()"
   ]
  },
  {
   "cell_type": "code",
   "execution_count": 21,
   "id": "9709d2f2",
   "metadata": {},
   "outputs": [],
   "source": [
    "#crop image\n",
    "img=cv2.imread(\"1220.jpg\")\n",
    "imgcrop=img[0:24,50:90] #height than width\n",
    "cv2.imshow(\"Cropped Image\",imgcrop)\n",
    "cv2.waitKey(1)\n",
    "cv2.destroyAllWindows()"
   ]
  },
  {
   "cell_type": "code",
   "execution_count": 23,
   "id": "f8e9efee",
   "metadata": {},
   "outputs": [
    {
     "data": {
      "text/plain": [
       "<function destroyAllWindows>"
      ]
     },
     "execution_count": 23,
     "metadata": {},
     "output_type": "execute_result"
    }
   ],
   "source": [
    "#Creating a image\n",
    "# 0 represents black 1 represents white\n",
    "img = np.zeros((512,512),np.uint8)\n",
    "cv2.imshow(\"Black Image\",img)\n",
    "cv2.waitKey(1)\n",
    "cv2.destroyAllWindows"
   ]
  },
  {
   "cell_type": "code",
   "execution_count": 25,
   "id": "1796c3df",
   "metadata": {},
   "outputs": [
    {
     "ename": "ValueError",
     "evalue": "could not broadcast input array from shape (3,) into shape (512,512)",
     "output_type": "error",
     "traceback": [
      "\u001b[0;31m---------------------------------------------------------------------------\u001b[0m",
      "\u001b[0;31mValueError\u001b[0m                                Traceback (most recent call last)",
      "Cell \u001b[0;32mIn[25], line 3\u001b[0m\n\u001b[1;32m      1\u001b[0m \u001b[38;5;66;03m#Changing colour of image\u001b[39;00m\n\u001b[1;32m      2\u001b[0m img \u001b[38;5;241m=\u001b[39m np\u001b[38;5;241m.\u001b[39mzeros((\u001b[38;5;241m512\u001b[39m,\u001b[38;5;241m512\u001b[39m),np\u001b[38;5;241m.\u001b[39muint8)\n\u001b[0;32m----> 3\u001b[0m img[\u001b[38;5;241m0\u001b[39m:,\u001b[38;5;241m0\u001b[39m:]\u001b[38;5;241m=\u001b[39m\u001b[38;5;241m255\u001b[39m,\u001b[38;5;241m0\u001b[39m,\u001b[38;5;241m0\u001b[39m\n\u001b[1;32m      4\u001b[0m cv2\u001b[38;5;241m.\u001b[39mimshow(\u001b[38;5;124m\"\u001b[39m\u001b[38;5;124mBlue Image\u001b[39m\u001b[38;5;124m\"\u001b[39m,img)\n\u001b[1;32m      5\u001b[0m cv2\u001b[38;5;241m.\u001b[39mwaitKey(\u001b[38;5;241m1\u001b[39m)\n",
      "\u001b[0;31mValueError\u001b[0m: could not broadcast input array from shape (3,) into shape (512,512)"
     ]
    }
   ],
   "source": [
    "#Changing colour of image\n",
    "img = np.zeros((512,512),np.uint8)\n",
    "img[:]=255,0,0\n",
    "cv2.imshow(\"Blue Image\",img)\n",
    "cv2.waitKey(1)\n",
    "cv2.destroyAllWindows"
   ]
  },
  {
   "cell_type": "code",
   "execution_count": 26,
   "id": "806a4123",
   "metadata": {},
   "outputs": [
    {
     "data": {
      "text/plain": [
       "<function destroyAllWindows>"
      ]
     },
     "execution_count": 26,
     "metadata": {},
     "output_type": "execute_result"
    }
   ],
   "source": [
    "#putting line on image\n",
    "img = np.zeros((512,512),np.uint8)\n",
    "img=cv2.line(img,(0,0),(512,512),(255,0,0),3) # image , start of line(w,h) , eof line , color , thickness\n",
    "cv2.imshow(\"Lined Image\",img)\n",
    "cv2.waitKey(1)\n",
    "cv2.destroyAllWindows"
   ]
  },
  {
   "cell_type": "code",
   "execution_count": 27,
   "id": "ac9ba96c",
   "metadata": {},
   "outputs": [
    {
     "data": {
      "text/plain": [
       "<function destroyAllWindows>"
      ]
     },
     "execution_count": 27,
     "metadata": {},
     "output_type": "execute_result"
    }
   ],
   "source": [
    "#putting Rectangle on image\n",
    "img = np.zeros((512,512),np.uint8)\n",
    "img=cv2.rectangle(img,(0,0),(100,120),(255,0,0),3) # image , start of rect(w,h) , eof rect , color , thickness\n",
    "cv2.imshow(\"rect Image\",img)\n",
    "cv2.waitKey(1)\n",
    "cv2.destroyAllWindows"
   ]
  },
  {
   "cell_type": "code",
   "execution_count": 28,
   "id": "8215589c",
   "metadata": {},
   "outputs": [
    {
     "data": {
      "text/plain": [
       "<function destroyAllWindows>"
      ]
     },
     "execution_count": 28,
     "metadata": {},
     "output_type": "execute_result"
    }
   ],
   "source": [
    "#Filling Rectangle on image\n",
    "img = np.zeros((512,512),np.uint8)\n",
    "img=cv2.rectangle(img,(0,0),(100,120),(255,0,0),cv2.FILLED) # image , start of rect(w,h) , eof rect , color , thickness\n",
    "cv2.imshow(\"filled rect Image\",img)\n",
    "cv2.waitKey(1)\n",
    "cv2.destroyAllWindows"
   ]
  },
  {
   "cell_type": "code",
   "execution_count": 29,
   "id": "70e87682",
   "metadata": {},
   "outputs": [
    {
     "data": {
      "text/plain": [
       "<function destroyAllWindows>"
      ]
     },
     "execution_count": 29,
     "metadata": {},
     "output_type": "execute_result"
    }
   ],
   "source": [
    "#Circle on image\n",
    "img = np.zeros((512,512),np.uint8)\n",
    "img=cv2.circle(img,(200,200),30,(255,0,0),3) # image , center of circle , radius , color , thickness\n",
    "cv2.imshow(\"filled rect Image\",img)\n",
    "cv2.waitKey(1)\n",
    "cv2.destroyAllWindows"
   ]
  },
  {
   "cell_type": "code",
   "execution_count": 30,
   "id": "b14e6819",
   "metadata": {},
   "outputs": [
    {
     "data": {
      "text/plain": [
       "<function destroyAllWindows>"
      ]
     },
     "execution_count": 30,
     "metadata": {},
     "output_type": "execute_result"
    }
   ],
   "source": [
    "#Text on image\n",
    "img = np.zeros((512,512),np.uint8)\n",
    "img=cv2.putText(img,\"Hello\",(100,120),cv2.FONT_HERSHEY_COMPLEX,2,(255,0,0),3) # image , text , place , font , scale ,color,size\n",
    "cv2.imshow(\"filled rect Image\",img)\n",
    "cv2.waitKey(1)\n",
    "cv2.destroyAllWindows"
   ]
  },
  {
   "cell_type": "code",
   "execution_count": 31,
   "id": "d25873ca",
   "metadata": {},
   "outputs": [],
   "source": [
    "#to convert a flat image like pg into straight shape just as cam scanner do use cv2.getPerspectiveTransform"
   ]
  },
  {
   "cell_type": "code",
   "execution_count": 32,
   "id": "602956e3",
   "metadata": {},
   "outputs": [],
   "source": [
    "#Join images horizontally\n",
    "img=cv2.imread(\"1220.jpg\")\n",
    "imghor=np.hstack((img,img)) #Both images must be of same channels , either rgb or b&w\n",
    "cv2.imshow(\"horizontal Image\",imghor)\n",
    "cv2.waitKey(1)\n",
    "cv2.destroyAllWindows()"
   ]
  },
  {
   "cell_type": "code",
   "execution_count": 33,
   "id": "b15d4917",
   "metadata": {},
   "outputs": [],
   "source": [
    "#Join images vertically\n",
    "img=cv2.imread(\"1220.jpg\")\n",
    "imgver=np.vstack((img,img)) #Both images must be of same channels , either rgb or b&w\n",
    "cv2.imshow(\"vertical Image\",imgver)\n",
    "cv2.waitKey(1)\n",
    "cv2.destroyAllWindows()"
   ]
  },
  {
   "cell_type": "code",
   "execution_count": null,
   "id": "f26bd43b",
   "metadata": {},
   "outputs": [],
   "source": [
    "#cv2 cascade detetection model\n",
    "#there are many default cascade to detect various things\n",
    "#we areusing cascade for face detection\n",
    "facecascade=cv2.CascadeClassifier(\"\")\n",
    "img=cv2.imread(\"1220.jpg\")\n",
    "imggray=cv2.cvtColor(img,cv2.COLOR_BGR2GRAY)\n",
    "faces=facecascade.detectMultiScale(imggray,1.1,4)\n",
    "for (x,y,w,h) in faces:\n",
    "    cv2.rectangle(img,(x,y),(x+w,y+h),(255,0,0),2)\n",
    "cv2.imshow(\"Cascade FAce Detection\",img)\n",
    "cv2.waitKey(1)\n",
    "cv2.destroyAllWindows()"
   ]
  },
  {
   "cell_type": "code",
   "execution_count": 4,
   "id": "83ef114e",
   "metadata": {},
   "outputs": [],
   "source": [
    "def empty(a):\n",
    "    pass\n",
    "cv2.namedWindow(\"TrackBar\")\n",
    "cv2.resizeWindow(\"TrackBar\",640,240)\n",
    "cv2.createTrackbar(\"Hue min\",\"TrackBar\",0,179,empty)\n"
   ]
  },
  {
   "cell_type": "code",
   "execution_count": null,
   "id": "93780c6b",
   "metadata": {},
   "outputs": [],
   "source": []
  }
 ],
 "metadata": {
  "kernelspec": {
   "display_name": "Python 3 (ipykernel)",
   "language": "python",
   "name": "python3"
  },
  "language_info": {
   "codemirror_mode": {
    "name": "ipython",
    "version": 3
   },
   "file_extension": ".py",
   "mimetype": "text/x-python",
   "name": "python",
   "nbconvert_exporter": "python",
   "pygments_lexer": "ipython3",
   "version": "3.10.9"
  }
 },
 "nbformat": 4,
 "nbformat_minor": 5
}
